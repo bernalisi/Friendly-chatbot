{
 "cells": [
  {
   "cell_type": "markdown",
   "id": "accurate-bunch",
   "metadata": {},
   "source": [
    "## Friendly Chatbot project with **JetBrain Accademy**\n",
    "\n",
    "Here is the code example of a simple Chatbot project I made through the *Python core course* developed by JetBrain Accademy."
   ]
  },
  {
   "cell_type": "code",
   "execution_count": null,
   "id": "amazing-attempt",
   "metadata": {
    "scrolled": true
   },
   "outputs": [],
   "source": [
    "def greet(bot_name, birth_year):\n",
    "    print('Hello! My name is ' + bot_name + '.')\n",
    "    print('I was created in ' + birth_year + '.')\n",
    "\n",
    "\n",
    "def remind_name():\n",
    "    print('Please, remind me your name.')\n",
    "    name = input()\n",
    "    print('What a great name you have, ' + name + '!')\n",
    "\n",
    "\n",
    "def guess_age():\n",
    "    print('Let me guess your age.')\n",
    "    print('Enter remainders of dividing your age by 3, 5 and 7.')\n",
    "\n",
    "    rem3 = int(input())\n",
    "    rem5 = int(input())\n",
    "    rem7 = int(input())\n",
    "    age = (rem3 * 70 + rem5 * 21 + rem7 * 15) % 105\n",
    "\n",
    "    print(\"Your age is \" + str(age) + \"; that's a good time to start programming!\")\n",
    "\n",
    "\n",
    "def count():\n",
    "    print('Now I will prove to you that I can count to any number you want.')\n",
    "\n",
    "    num = int(input())\n",
    "    curr = 0\n",
    "    while curr <= num:\n",
    "        print(curr, '!')\n",
    "        curr = curr + 1\n",
    "\n",
    "\n",
    "def test():\n",
    "    print(\"Let's test your programming knowledge.\")\n",
    "    print('Why do we use methods?')\n",
    "    print('1. because its cool')\n",
    "    print('2. because its smart')\n",
    "    print('3. because its fantastic')\n",
    "    print('4. because its nothing short of awesome')\n",
    "    \n",
    "    ansewer = int(input())\n",
    "    \n",
    "    while ansewer != 2: \n",
    "        print('Please, try again.')\n",
    "        ansewer = int(input())\n",
    "    if ansewer ==  2: \n",
    "        end()\n",
    "\n",
    "def end():\n",
    "    print('Congratulations, have a nice day!')\n",
    "\n",
    "\n",
    "greet('Mark', '2020')  # change it as you need\n",
    "remind_name()\n",
    "guess_age()\n",
    "count()\n",
    "test()\n",
    "end()"
   ]
  }
 ],
 "metadata": {
  "kernelspec": {
   "display_name": "Python 3",
   "language": "python",
   "name": "python3"
  },
  "language_info": {
   "codemirror_mode": {
    "name": "ipython",
    "version": 3
   },
   "file_extension": ".py",
   "mimetype": "text/x-python",
   "name": "python",
   "nbconvert_exporter": "python",
   "pygments_lexer": "ipython3",
   "version": "3.8.2"
  }
 },
 "nbformat": 4,
 "nbformat_minor": 5
}
